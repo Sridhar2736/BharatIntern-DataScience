{
  "nbformat": 4,
  "nbformat_minor": 0,
  "metadata": {
    "colab": {
      "provenance": []
    },
    "kernelspec": {
      "name": "python3",
      "display_name": "Python 3"
    },
    "language_info": {
      "name": "python"
    }
  },
  "cells": [
    {
      "cell_type": "code",
      "execution_count": null,
      "metadata": {
        "id": "hi10W10_O3n1"
      },
      "outputs": [],
      "source": [
        "import numpy as np\n",
        "import pandas as pd\n",
        "from sklearn.preprocessing import MinMaxScaler\n",
        "import matplotlib.pyplot as plt"
      ]
    },
    {
      "cell_type": "code",
      "source": [
        "import torch\n",
        "import torch.nn as nn"
      ],
      "metadata": {
        "id": "xOiJa_GCPiLi"
      },
      "execution_count": null,
      "outputs": []
    },
    {
      "cell_type": "code",
      "source": [
        "df = pd.read_csv(\"netflix.csv\")\n",
        "closed_prices = df[\"Close\"]"
      ],
      "metadata": {
        "id": "PurehoYHPoP9"
      },
      "execution_count": null,
      "outputs": []
    },
    {
      "cell_type": "code",
      "source": [
        "seq_len = 15"
      ],
      "metadata": {
        "id": "qwKwv-RmQFOl"
      },
      "execution_count": null,
      "outputs": []
    },
    {
      "cell_type": "code",
      "source": [
        "mm = MinMaxScaler()\n",
        "scaled_price = mm.fit_transform(np.array(closed_prices)[... , None]).squeeze()"
      ],
      "metadata": {
        "id": "S6meWo-fQHj_"
      },
      "execution_count": null,
      "outputs": []
    },
    {
      "cell_type": "code",
      "source": [
        "X = []\n",
        "y = []\n"
      ],
      "metadata": {
        "id": "g2aGY5gAQLpA"
      },
      "execution_count": null,
      "outputs": []
    },
    {
      "cell_type": "code",
      "source": [
        "for i in range(len(scaled_price) - seq_len):\n",
        "    X.append(scaled_price[i : i + seq_len])\n",
        "    y.append(scaled_price[i + seq_len])"
      ],
      "metadata": {
        "id": "9TOPMF0QQOXk"
      },
      "execution_count": null,
      "outputs": []
    },
    {
      "cell_type": "code",
      "source": [
        "X = np.array(X)[... , None]\n",
        "y = np.array(y)[... , None]"
      ],
      "metadata": {
        "id": "_Dv2Gam0QSgg"
      },
      "execution_count": null,
      "outputs": []
    },
    {
      "cell_type": "code",
      "source": [
        "train_x = torch.from_numpy(X[:int(0.8 * X.shape[0])]).float()\n",
        "train_y = torch.from_numpy(y[:int(0.8 * X.shape[0])]).float()\n",
        "test_x = torch.from_numpy(X[int(0.8 * X.shape[0]):]).float()\n",
        "test_y = torch.from_numpy(y[int(0.8 * X.shape[0]):]).float()\n"
      ],
      "metadata": {
        "id": "t-8UJfXKQVEg"
      },
      "execution_count": null,
      "outputs": []
    },
    {
      "cell_type": "code",
      "source": [
        "class Model(nn.Module):\n",
        "    def __init__(self , input_size , hidden_size):\n",
        "        super().__init__()\n",
        "        self.lstm = nn.LSTM(input_size , hidden_size , batch_first = True)\n",
        "        self.fc = nn.Linear(hidden_size , 1)\n",
        "    def forward(self , x):\n",
        "        output , (hidden , cell) = self.lstm(x)\n",
        "        return self.fc(hidden[-1 , :])\n",
        "model = Model(1 , 64)"
      ],
      "metadata": {
        "id": "0sPR7IQtQY_C"
      },
      "execution_count": null,
      "outputs": []
    },
    {
      "cell_type": "code",
      "source": [
        "optimizer = torch.optim.Adam(model.parameters() , lr = 0.001)\n",
        "loss_fn = nn.MSELoss()"
      ],
      "metadata": {
        "id": "JMt5OmQtQcCQ"
      },
      "execution_count": null,
      "outputs": []
    },
    {
      "cell_type": "code",
      "source": [
        "num_epochs = 100\n"
      ],
      "metadata": {
        "id": "OWbI4quTQeL9"
      },
      "execution_count": null,
      "outputs": []
    },
    {
      "cell_type": "code",
      "source": [
        "for epoch in range(num_epochs):\n",
        "    output = model(train_x)\n",
        "    loss = loss_fn(output , train_y)\n",
        "\n",
        "    optimizer.zero_grad()\n",
        "    loss.backward()\n",
        "    optimizer.step()\n",
        "\n",
        "    if epoch % 10 == 0 and epoch != 0:\n",
        "        print(epoch , \"epoch loss\" , loss.detach().numpy())"
      ],
      "metadata": {
        "colab": {
          "base_uri": "https://localhost:8080/"
        },
        "id": "d7ImItOpQgCM",
        "outputId": "120b2f19-48df-48e8-82ec-519f39990352"
      },
      "execution_count": null,
      "outputs": [
        {
          "output_type": "stream",
          "name": "stdout",
          "text": [
            "10 epoch loss 0.022645136\n",
            "20 epoch loss 0.022645136\n",
            "30 epoch loss 0.022645136\n",
            "40 epoch loss 0.022645136\n",
            "50 epoch loss 0.022645136\n",
            "60 epoch loss 0.022645136\n",
            "70 epoch loss 0.022645136\n",
            "80 epoch loss 0.022645136\n",
            "90 epoch loss 0.022645136\n"
          ]
        }
      ]
    },
    {
      "cell_type": "code",
      "source": [
        "model.eval()\n",
        "with torch.no_grad():\n",
        "    output = model(test_x)"
      ],
      "metadata": {
        "id": "JY8tumxbQo0b"
      },
      "execution_count": null,
      "outputs": []
    },
    {
      "cell_type": "code",
      "source": [
        "pred = mm.inverse_transform(output.numpy())\n",
        "real = mm.inverse_transform(test_y.numpy())"
      ],
      "metadata": {
        "id": "bmzUbEtmQ1e8"
      },
      "execution_count": null,
      "outputs": []
    },
    {
      "cell_type": "code",
      "source": [
        "plt.plot(pred.squeeze() , color = \"red\" , label = \"predicted\")\n",
        "plt.plot(real.squeeze() , color = \"green\" , label = \"real\")\n",
        "plt.show()\n"
      ],
      "metadata": {
        "colab": {
          "base_uri": "https://localhost:8080/",
          "height": 430
        },
        "id": "nHCNaiUARB6q",
        "outputId": "22df5705-9445-417f-cf7b-727badb1bfd5"
      },
      "execution_count": null,
      "outputs": [
        {
          "output_type": "display_data",
          "data": {
            "text/plain": [
              "<Figure size 640x480 with 1 Axes>"
            ],
            "image/png": "[encoded data removed]"
          },
          "metadata": {}
        }
      ]
    },
    {
      "cell_type": "code",
      "source": [],
      "metadata": {
        "id": "EZJKhmvmRCg3"
      },
      "execution_count": null,
      "outputs": []
    }
  ]
}